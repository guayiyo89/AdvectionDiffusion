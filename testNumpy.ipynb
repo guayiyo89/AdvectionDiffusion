{
 "metadata": {
  "language_info": {
   "codemirror_mode": {
    "name": "ipython",
    "version": 3
   },
   "file_extension": ".py",
   "mimetype": "text/x-python",
   "name": "python",
   "nbconvert_exporter": "python",
   "pygments_lexer": "ipython3",
   "version": "3.7.4"
  },
  "orig_nbformat": 4,
  "kernelspec": {
   "name": "python3",
   "display_name": "Python 3.7.4 32-bit"
  },
  "interpreter": {
   "hash": "51680c2f43c97a1746a8136cdba647316e0eb95d241c7daa374580584011c206"
  }
 },
 "nbformat": 4,
 "nbformat_minor": 2,
 "cells": [
  {
   "cell_type": "code",
   "execution_count": 6,
   "metadata": {},
   "outputs": [
    {
     "output_type": "stream",
     "name": "stdout",
     "text": [
      "[0, 2, 4, 6, 8]\n[0 2 4 6 8]\n"
     ]
    }
   ],
   "source": [
    "import numpy as np\n",
    "import random as ran\n",
    "#generar un arreglo\n",
    "F_u = []\n",
    "\n",
    "for i in range(5):\n",
    "    F_u.append(i*2)\n",
    "print(F_u)\n",
    "F_u1 = np.asarray(F_u)\n",
    "F_u = np.transpose(F_u1)\n",
    "print(F_u)"
   ]
  },
  {
   "cell_type": "code",
   "execution_count": 7,
   "metadata": {},
   "outputs": [
    {
     "output_type": "stream",
     "name": "stdout",
     "text": [
      "[[5. 9. 2. 4. 4.]\n [8. 9. 5. 3. 2.]\n [8. 2. 5. 4. 3.]\n [5. 9. 7. 2. 7.]\n [7. 4. 4. 6. 6.]]\n-554.0000000000001\n-----\nTraspuesta: \n [[5. 8. 8. 5. 7.]\n [9. 9. 2. 9. 4.]\n [2. 5. 5. 7. 4.]\n [4. 3. 4. 2. 6.]\n [4. 2. 3. 7. 6.]]\n-----\nInversa: \n [[ 1.40794224 -1.22021661  1.72563177  0.10108303 -1.51263538]\n [-0.07942238  0.20216606 -0.25631769 -0.01083032  0.12635379]\n [-1.55054152  1.31046931 -1.57220217 -0.05234657  1.44404332]\n [-1.68411552  1.55956679 -2.04873646 -0.29783394  1.97472924]\n [ 1.12815884 -1.14440433  1.25451264  0.22202166 -1.09025271]]\n"
     ]
    }
   ],
   "source": [
    "jb = np.zeros((5,5))\n",
    "for i in range(5):\n",
    "    for j in range(5):\n",
    "        jb[i][j] = ran.randint(2,9)\n",
    "\n",
    "print(jb)\n",
    "\n",
    "det = np.linalg.det(jb)\n",
    "print(det)\n",
    "\n",
    "jb2 = jb.transpose()\n",
    "print('-----\\nTraspuesta: \\n',jb2)\n",
    "\n",
    "jb3 = np.linalg.inv(jb)\n",
    "print('-----\\nInversa: \\n',jb3)"
   ]
  },
  {
   "cell_type": "code",
   "execution_count": 36,
   "metadata": {},
   "outputs": [
    {
     "output_type": "stream",
     "name": "stdout",
     "text": [
      "[[5. 8. 8. 5. 7.]\n [9. 9. 2. 9. 4.]\n [2. 5. 5. 7. 4.]\n [4. 3. 4. 2. 6.]\n [4. 2. 3. 7. 6.]]\n[100.  89.  75.  60.  75.]\n"
     ]
    }
   ],
   "source": [
    "jb2 = jb.transpose()\n",
    "print(jb2)\n",
    "L = [1,2,3,4,5]\n",
    "\n",
    "A = np.dot(jb2,L)\n",
    "print(A)"
   ]
  },
  {
   "cell_type": "code",
   "execution_count": 47,
   "metadata": {},
   "outputs": [
    {
     "output_type": "stream",
     "name": "stdout",
     "text": [
      "[[3 4]\n [5 6]]\n[[11 17]]\n[[12 19]]\n"
     ]
    }
   ],
   "source": [
    "A = np.matrix([[3,4],[5,6]])\n",
    "print(A)\n",
    "b = [1,2]\n",
    "\n",
    "X = np.dot(A,b)\n",
    "print(X)\n",
    "J = [1,2] + X\n",
    "print(J)"
   ]
  },
  {
   "cell_type": "code",
   "execution_count": 1,
   "metadata": {},
   "outputs": [
    {
     "output_type": "stream",
     "name": "stdout",
     "text": [
      "3 SI\n4 SI\n55 SI\n77 SI\n34 SI\n11 SI\n32 SI\n"
     ]
    }
   ],
   "source": [
    "arreglo = [3,4,55,77,34,11,32]\n",
    "\n",
    "for i,valor in enumerate(arreglo):\n",
    "    print(valor,'SI')"
   ]
  },
  {
   "cell_type": "code",
   "execution_count": 2,
   "metadata": {},
   "outputs": [
    {
     "output_type": "stream",
     "name": "stdout",
     "text": [
      "[8, 22]\n"
     ]
    }
   ],
   "source": [
    "link_cells = [[2,4],[3,5],[8,22],[22,33]]\n",
    "a = link_cells[2]\n",
    "print(a)"
   ]
  },
  {
   "cell_type": "code",
   "execution_count": 4,
   "metadata": {},
   "outputs": [
    {
     "output_type": "stream",
     "name": "stdout",
     "text": [
      "[2, 4]\n[3, 5]\n[8, 22]\n[22, 33]\n"
     ]
    }
   ],
   "source": [
    "totCells = 4\n",
    "for i in range(totCells):\n",
    "    print(link_cells[i])"
   ]
  },
  {
   "cell_type": "code",
   "execution_count": 34,
   "metadata": {},
   "outputs": [
    {
     "output_type": "stream",
     "name": "stdout",
     "text": [
      "[[2. 0. 0.]\n [0. 2. 0.]\n [0. 0. 2.]]\nwhat [[[[5.82538573e-212             nan 1.12646967e-321 8.96904655e-067\n    5.20269528e-090]\n   [6.01347002e-154 6.01347002e-154 6.37257830e-067 5.20748563e-090\n    7.10600526e-038]\n   [1.21268108e-099 6.01346953e-154 8.60827300e-067 7.72601340e+140\n    1.30408776e-076]\n   [3.92574737e+179 5.60302087e-067 3.75924450e+179 5.60374534e-067\n    3.11213421e+179]]\n\n  [[1.30489232e-076 3.43443295e+179 6.01334530e-154 1.13053120e-042\n    7.86058637e-067]\n   [3.89202787e-086 1.48441290e-076 3.64465893e-086 3.37612237e-057\n    3.44358551e-086]\n   [6.38274374e-067 4.04681495e-086 1.17820816e-047 5.98151975e-154\n    1.42715292e-071]\n   [1.79339645e-052 6.14099335e-071 3.93800552e-062 1.56000472e-033\n    2.31900848e-052]]\n\n  [[5.53825660e-048 1.17660554e-047 1.96852985e-062 2.31860379e-052\n    2.44297929e-154]\n   [5.93622403e-038 5.08076004e-067 5.98129863e-154 3.21804318e-057\n    1.79258078e-052]\n   [5.88839140e-062 4.75408875e-038 4.75961306e-038 1.10689752e-047\n    1.13001117e-042]\n   [6.73944703e-067 3.64460956e-086 3.69928718e-033 2.45790489e-154\n    3.05685739e-057]]]\n\n\n [[[1.26931833e-076 7.70920923e-043 5.08074314e-067 6.82243669e-038\n    7.75260737e-072]\n   [4.17822122e-062 8.31857867e-072 3.61545994e-043 1.72452022e-047\n    9.50077745e-259]\n   [7.39987539e-038 1.21201659e-099 2.00191084e-076 1.21246485e-099\n    1.57010110e-076]\n   [1.21290435e-099 3.69402369e-033 5.20843683e-090 6.01346953e-154\n    4.76074326e-038]]\n\n  [[1.20000650e+141 5.60101427e-067 2.95384524e+179 1.03304037e-047\n    3.59777485e+179]\n   [2.90887864e-033 3.76050596e+179 8.55284768e-072 3.59968676e+179\n    6.01334532e-154]\n   [6.75657351e-067 9.50111420e-043 1.20336034e+132 9.50289188e-043\n    1.43229159e-153]\n   [7.12168715e-067 1.65749625e-153 5.94084718e-038 1.73004254e-153\n    3.89488948e-033]]\n\n  [[1.64413598e-259 7.85628905e-067 1.21268807e-099 6.01334619e-154\n    1.38213799e-047]\n   [3.37609614e-057 8.16470650e-043 7.86058637e-067 9.73047661e-072\n    2.08926780e-076]\n   [4.42797319e-062 3.69470966e-057 1.30506093e-076 3.27740288e+179\n    5.98176999e-154]\n   [2.74073305e-057 1.79339649e-052 5.39556401e-062 1.02835801e-071\n    4.66535114e-062]]]]\n"
     ]
    }
   ],
   "source": [
    "import numpy as np\n",
    "A = np.ones(5)\n",
    "M = np.diag(np.ones(3))\n",
    "B = [[2,3,4],[1,2,1],[1,0,2]]\n",
    "print(M*2)\n",
    "\n",
    "L = [2,3,4,5]\n",
    "M = np.asfarray(L) * 3\n",
    "largo = np.ndarray(L)\n",
    "print('what',largo)"
   ]
  },
  {
   "cell_type": "code",
   "execution_count": null,
   "metadata": {},
   "outputs": [],
   "source": []
  }
 ]
}